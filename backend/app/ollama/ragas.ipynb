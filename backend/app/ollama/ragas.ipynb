{
 "cells": [
  {
   "cell_type": "code",
   "execution_count": 3,
   "id": "d372c668",
   "metadata": {},
   "outputs": [
    {
     "name": "stdout",
     "output_type": "stream",
     "text": [
      "1.10.0\n"
     ]
    }
   ],
   "source": [
    "import faiss\n",
    "print(faiss.__version__)"
   ]
  },
  {
   "cell_type": "code",
   "execution_count": 9,
   "id": "2fcd167a",
   "metadata": {},
   "outputs": [
    {
     "name": "stderr",
     "output_type": "stream",
     "text": [
      "Batches: 100%|██████████| 6/6 [00:01<00:00,  3.50it/s]\n"
     ]
    },
    {
     "name": "stdout",
     "output_type": "stream",
     "text": [
      "Based on the provided context from data privacy laws and guidelines, it appears that there is no mention of a specific law or regulation called \"DPDPA 2023\". However, I can provide information on the general principles and regulations related to data privacy.\n",
      "\n",
      "In India, the General Data Protection Regulation (GDPR) came into effect on August 24, 2018, which provides guidelines for data protection. The GDPR is applicable to any organization that processes personal data of individuals in the European Union, regardless of their location.\n",
      "\n",
      "Regarding penalties for data privacy violations, under the GDPR, organizations can face severe penalties if they fail to comply with the regulation's provisions. These penalties include:\n",
      "\n",
      "1. Fines: The maximum fine for non-compliance is €20 million or 4% of the organization's global annual revenue, whichever is higher.\n",
      "2. Compensation: Individuals who have suffered damage due to a data breach can seek compensation from the responsible organization.\n",
      "\n",
      "In addition to these penalties, organizations may also face reputational damage and loss of customer trust if they fail to comply with data privacy regulations.\n",
      "\n",
      "It's important to note that data privacy laws and regulations are constantly evolving, and it's essential for organizations to stay up-to-date on the latest developments.\n"
     ]
    }
   ],
   "source": [
    "import ollama\n",
    "from sentence_transformers import SentenceTransformer\n",
    "import numpy as np\n",
    "import faiss\n",
    "from typing import List\n",
    "import pdfplumber\n",
    "\n",
    "# 1. PDF Processing and Chunking\n",
    "class DataPrivacyProcessor:\n",
    "    def __init__(self):\n",
    "        self.embedder = SentenceTransformer('all-MiniLM-L6-v2')  # Lightweight, good for legal text\n",
    "        \n",
    "    def extract_text_from_pdfs(self, pdf_paths: List[str]) -> List[str]:\n",
    "        \"\"\"Extract text from multiple PDFs.\"\"\"\n",
    "        all_chunks = []\n",
    "        for pdf_path in pdf_paths:\n",
    "            with pdfplumber.open(pdf_path) as pdf:\n",
    "                for page in pdf.pages:\n",
    "                    text = page.extract_text()\n",
    "                    if text:\n",
    "                        # Split into chunks (e.g., by paragraph)\n",
    "                        chunks = [chunk.strip() for chunk in text.split('\\n\\n') if len(chunk) > 50]\n",
    "                        all_chunks.extend(chunks)\n",
    "        return all_chunks\n",
    "\n",
    "    def vectorize_chunks(self, chunks: List[str]) -> np.ndarray:\n",
    "        \"\"\"Convert text chunks to embeddings.\"\"\"\n",
    "        embeddings = self.embedder.encode(chunks, show_progress_bar=True)\n",
    "        return embeddings\n",
    "\n",
    "# 2. Retrieval System\n",
    "class PrivacyRetriever:\n",
    "    def __init__(self, embeddings: np.ndarray, chunks: List[str], embedder: SentenceTransformer):\n",
    "        self.chunks = chunks\n",
    "        self.embedder = embedder  # Store the embedder passed from DataPrivacyProcessor\n",
    "        self.index = faiss.IndexFlatL2(embeddings.shape[1])  # L2 distance index\n",
    "        self.index.add(embeddings)  # Add embeddings to FAISS\n",
    "        \n",
    "    def retrieve(self, query: str, top_k: int = 5) -> List[str]:\n",
    "        \"\"\"Retrieve top-k relevant chunks.\"\"\"\n",
    "        query_embedding = self.embedder.encode([query])\n",
    "        distances, indices = self.index.search(query_embedding, top_k)\n",
    "        return [self.chunks[idx] for idx in indices[0]]\n",
    "\n",
    "# 3. RAG with LLaMA3:8B\n",
    "class PrivacyRAG:\n",
    "    def __init__(self, retriever: PrivacyRetriever, model_name='llama3:8b'):\n",
    "        self.retriever = retriever\n",
    "        self.model_name = model_name\n",
    "        self.system_prompt = \"\"\"You are a data privacy expert. Using the provided context from data privacy laws and guidelines, answer the query accurately and concisely in formal legal language.\"\"\"\n",
    "    \n",
    "    def generate_response(self, query: str) -> str:\n",
    "        \"\"\"Generate response using retrieved context and LLaMA3:8B.\"\"\"\n",
    "        # Retrieve relevant chunks\n",
    "        context_chunks = self.retriever.retrieve(query)\n",
    "        context = \"\\n\\n\".join(context_chunks)\n",
    "        \n",
    "        # Construct prompt\n",
    "        full_prompt = f\"{self.system_prompt}\\n\\nContext:\\n{context}\\n\\nQuery:\\n{query}\"\n",
    "        \n",
    "        # Generate response\n",
    "        response = ollama.generate(\n",
    "            model=self.model_name,\n",
    "            prompt=full_prompt\n",
    "        )\n",
    "        return response['response']\n",
    "\n",
    "# Example Usage\n",
    "if __name__ == \"__main__\":\n",
    "    # Step 1: Process PDFs\n",
    "    processor = DataPrivacyProcessor()\n",
    "    pdf_paths = [\"RBI-Guidelines.pdf\"]  # Replace with your 25 PDFs\n",
    "    chunks = processor.extract_text_from_pdfs(pdf_paths)\n",
    "    embeddings = processor.vectorize_chunks(chunks)\n",
    "    \n",
    "    # Step 2: Set up retriever, passing the embedder\n",
    "    retriever = PrivacyRetriever(embeddings, chunks, processor.embedder)\n",
    "    \n",
    "    # Step 3: Initialize RAG system\n",
    "    rag = PrivacyRAG(retriever)\n",
    "    \n",
    "    # Test query\n",
    "    query = \"What are the penalties for data privacy violations in DPDPA 2023\"\n",
    "    response = rag.generate_response(query)\n",
    "    print(response)"
   ]
  },
  {
   "cell_type": "code",
   "execution_count": null,
   "id": "fa84a539",
   "metadata": {},
   "outputs": [],
   "source": []
  }
 ],
 "metadata": {
  "kernelspec": {
   "display_name": ".venv",
   "language": "python",
   "name": "python3"
  },
  "language_info": {
   "codemirror_mode": {
    "name": "ipython",
    "version": 3
   },
   "file_extension": ".py",
   "mimetype": "text/x-python",
   "name": "python",
   "nbconvert_exporter": "python",
   "pygments_lexer": "ipython3",
   "version": "3.9.6"
  }
 },
 "nbformat": 4,
 "nbformat_minor": 5
}
