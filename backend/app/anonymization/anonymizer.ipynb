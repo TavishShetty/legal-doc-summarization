{
 "cells": [
  {
   "cell_type": "code",
   "execution_count": 11,
   "id": "1698023a",
   "metadata": {},
   "outputs": [
    {
     "name": "stderr",
     "output_type": "stream",
     "text": [
      "usage: ipykernel_launcher.py [-h] [--method {redact,mask,pseudonymize}]\n",
      "                             input_file output_file\n",
      "ipykernel_launcher.py: error: the following arguments are required: input_file, output_file\n"
     ]
    },
    {
     "ename": "SystemExit",
     "evalue": "2",
     "output_type": "error",
     "traceback": [
      "An exception has occurred, use %tb to see the full traceback.\n",
      "\u001b[0;31mSystemExit\u001b[0m\u001b[0;31m:\u001b[0m 2\n"
     ]
    },
    {
     "name": "stderr",
     "output_type": "stream",
     "text": [
      "/Users/puneetkohli/Downloads/Capstone 2025/legal-doc-summarization/.venv/lib/python3.9/site-packages/IPython/core/interactiveshell.py:3558: UserWarning: To exit: use 'exit', 'quit', or Ctrl-D.\n",
      "  warn(\"To exit: use 'exit', 'quit', or Ctrl-D.\", stacklevel=1)\n"
     ]
    }
   ],
   "source": [
    "import argparse\n",
    "import pdfplumber\n",
    "import spacy\n",
    "import re\n",
    "import subprocess\n",
    "import json\n",
    "\n",
    "# Extract text\n",
    "def extract_text_from_pdf(pdf_path):\n",
    "    with pdfplumber.open(pdf_path) as pdf:\n",
    "        text = \"\"\n",
    "        for page in pdf.pages:\n",
    "            text += page.extract_text() or \"\"\n",
    "    return text\n",
    "\n",
    "# NER with spaCy and custom rules\n",
    "nlp = spacy.load(\"en_core_web_sm\")\n",
    "\n",
    "def detect_entities(text):\n",
    "    doc = nlp(text)\n",
    "    return [(ent.text, ent.label_) for ent in doc.ents]\n",
    "\n",
    "def add_custom_rules(text):\n",
    "    patterns = {\n",
    "        \"AADHAAR\": r\"\\b\\d{12}\\b\",\n",
    "        \"PAN\": r\"\\b[A-Z]{5}[0-9]{4}[A-Z]\\b\"\n",
    "    }\n",
    "    custom_entities = []\n",
    "    for label, pattern in patterns.items():\n",
    "        for match in re.finditer(pattern, text):\n",
    "            custom_entities.append((match.group(), label))\n",
    "    return custom_entities\n",
    "\n",
    "def get_all_entities(text):\n",
    "    return detect_entities(text) + add_custom_rules(text)\n",
    "\n",
    "# LLaMA via Ollama\n",
    "def generate_pseudonym(prompt=\"Generate a fake name: \"):\n",
    "    # Use Ollama CLI to generate text (assumes Ollama is running locally)\n",
    "    result = subprocess.run(\n",
    "        [\"ollama\", \"run\", \"llama3:8b\", prompt],\n",
    "        capture_output=True,\n",
    "        text=True\n",
    "    )\n",
    "    # Extract the generated text from the output\n",
    "    generated_text = result.stdout.strip()\n",
    "    return generated_text if generated_text else \"Fake Name\"  # Fallback if empty\n",
    "\n",
    "# Anonymization\n",
    "def anonymize_text(text, entities, method=\"redact\"):\n",
    "    anonymized_text = text\n",
    "    for entity, label in entities:\n",
    "        if method == \"redact\":\n",
    "            if label in [\"PERSON\", \"AADHAAR\", \"PAN\", \"ORG\", \"GPE\"]:\n",
    "                anonymized_text = anonymized_text.replace(entity, \"[REDACTED]\")\n",
    "        elif method == \"mask\":\n",
    "            if label == \"AADHAAR\":\n",
    "                anonymized_text = anonymized_text.replace(entity, \"XXXX-XXXX-\" + entity[-4:])\n",
    "            elif label == \"PAN\":\n",
    "                anonymized_text = anonymized_text.replace(entity, \"XXXXX\" + entity[-5:])\n",
    "        elif method == \"pseudonymize\":\n",
    "            if label == \"PERSON\":\n",
    "                fake_name = generate_pseudonym()\n",
    "                anonymized_text = anonymized_text.replace(entity, fake_name)\n",
    "    return anonymized_text\n",
    "\n",
    "# Main function\n",
    "def main(input_file, output_file, method):\n",
    "    text = extract_text_from_pdf(input_file)\n",
    "    entities = get_all_entities(text)\n",
    "    anonymized_text = anonymize_text(text, entities, method=method)\n",
    "    with open(output_file, \"w\") as f:\n",
    "        f.write(anonymized_text)\n",
    "    print(f\"Anonymized document saved to {output_file}\")\n",
    "\n",
    "if __name__ == \"__main__\":\n",
    "    parser = argparse.ArgumentParser(description=\"Anonymize legal documents\")\n",
    "    parser.add_argument(\"input_file\", help=\"Path to input PDF\")\n",
    "    parser.add_argument(\"output_file\", help=\"Path to output text file\")\n",
    "    parser.add_argument(\"--method\", choices=[\"redact\", \"mask\", \"pseudonymize\"], default=\"redact\", help=\"Anonymization method\")\n",
    "    args = parser.parse_args()\n",
    "\n",
    "    main(args.input_file, args.output_file, args.method)"
   ]
  }
 ],
 "metadata": {
  "kernelspec": {
   "display_name": ".venv",
   "language": "python",
   "name": "python3"
  },
  "language_info": {
   "codemirror_mode": {
    "name": "ipython",
    "version": 3
   },
   "file_extension": ".py",
   "mimetype": "text/x-python",
   "name": "python",
   "nbconvert_exporter": "python",
   "pygments_lexer": "ipython3",
   "version": "3.9.6"
  }
 },
 "nbformat": 4,
 "nbformat_minor": 5
}
